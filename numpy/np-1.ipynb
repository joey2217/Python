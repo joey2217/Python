{
 "cells": [
  {
   "attachments": {},
   "cell_type": "markdown",
   "metadata": {},
   "source": [
    "# numpy\n",
    "\n",
    "> https://mofanpy.com/tutorials/data-manipulation/numpy/"
   ]
  },
  {
   "attachments": {},
   "cell_type": "markdown",
   "metadata": {},
   "source": [
    "## numpy 基础"
   ]
  },
  {
   "cell_type": "code",
   "execution_count": 1,
   "metadata": {},
   "outputs": [],
   "source": [
    "import numpy as np\n"
   ]
  },
  {
   "cell_type": "code",
   "execution_count": 11,
   "metadata": {},
   "outputs": [
    {
     "data": {
      "text/plain": [
       "array([1, 2, 3])"
      ]
     },
     "execution_count": 11,
     "metadata": {},
     "output_type": "execute_result"
    }
   ],
   "source": [
    "np.array([1, 2, 3])\n"
   ]
  },
  {
   "cell_type": "code",
   "execution_count": 12,
   "metadata": {},
   "outputs": [
    {
     "name": "stdout",
     "output_type": "stream",
     "text": [
      "1\n"
     ]
    }
   ],
   "source": [
    "my_list = [1, 2, 3]\n",
    "print(my_list[0])\n"
   ]
  },
  {
   "cell_type": "code",
   "execution_count": 13,
   "metadata": {},
   "outputs": [
    {
     "name": "stdout",
     "output_type": "stream",
     "text": [
      "1\n"
     ]
    }
   ],
   "source": [
    "my_array = np.array([1, 2, 3])\n",
    "print(my_array[0])\n"
   ]
  },
  {
   "cell_type": "code",
   "execution_count": 14,
   "metadata": {},
   "outputs": [
    {
     "name": "stdout",
     "output_type": "stream",
     "text": [
      "[-1, 2, 3]\n",
      "[-1  2  3]\n"
     ]
    }
   ],
   "source": [
    "my_list[0] = -1\n",
    "print(my_list)\n",
    "my_array[0] = -1\n",
    "print(my_array)\n"
   ]
  },
  {
   "attachments": {},
   "cell_type": "markdown",
   "metadata": {},
   "source": [
    "## np.array list 速度比较\n"
   ]
  },
  {
   "cell_type": "code",
   "execution_count": 15,
   "metadata": {},
   "outputs": [
    {
     "name": "stdout",
     "output_type": "stream",
     "text": [
      "python list spend 0.101\n",
      "numpy list spend 0.010\n"
     ]
    }
   ],
   "source": [
    "import time\n",
    "t0 = time.time()\n",
    "# python list\n",
    "l = list(range(100))\n",
    "for _ in range(10000):\n",
    "    for i in range(len(l)):\n",
    "        l[i] += 1\n",
    "\n",
    "t1 = time.time()\n",
    "# numpy array\n",
    "a = np.array(l)\n",
    "for _ in range(10000):\n",
    "    a += 1\n",
    "\n",
    "print(\"python list spend {:.3f}\".format(t1-t0))\n",
    "print(\"numpy list spend {:.3f}\".format(time.time()-t1))\n"
   ]
  },
  {
   "attachments": {},
   "cell_type": "markdown",
   "metadata": {},
   "source": [
    "## 创建数据\n",
    "\n",
    "```python\n",
    "np.array()\n",
    "array.ndim # 维度\n",
    "```\n"
   ]
  },
  {
   "cell_type": "code",
   "execution_count": 16,
   "metadata": {},
   "outputs": [
    {
     "name": "stdout",
     "output_type": "stream",
     "text": [
      "数据: [[[ 5.  10.  12.   6. ]\n",
      "  [ 1.5 10.   1.2  6. ]\n",
      "  [ 5.  10.  12.   6. ]\n",
      "  [ 5.  10.  12.   6. ]]\n",
      "\n",
      " [[ 5.  10.  12.   6. ]\n",
      "  [ 1.5 10.   1.2  6. ]\n",
      "  [ 5.  10.  12.   6. ]\n",
      "  [ 5.  10.  12.   6. ]]] \n",
      "维度 3\n"
     ]
    }
   ],
   "source": [
    "cars = np.array(\n",
    "    [\n",
    "        [\n",
    "            [5, 10, 12, 6],\n",
    "            [1.5, 10, 1.2, 6],\n",
    "            [5, 10, 12, 6],\n",
    "            [5, 10, 12, 6],\n",
    "        ],\n",
    "        [\n",
    "            [5, 10, 12, 6],\n",
    "            [1.5, 10, 1.2, 6],\n",
    "            [5, 10, 12, 6],\n",
    "            [5, 10, 12, 6],\n",
    "        ]\n",
    "    ]\n",
    ")\n",
    "print(\"数据:\", cars, \"\\n维度\", cars.ndim)\n"
   ]
  },
  {
   "attachments": {},
   "cell_type": "markdown",
   "metadata": {},
   "source": [
    "## 添加数据\n",
    "\n",
    "```python\n",
    "np.concatenate()\n",
    "np.expand_dims() #扩展维度\n",
    "```\n"
   ]
  },
  {
   "cell_type": "code",
   "execution_count": 17,
   "metadata": {},
   "outputs": [
    {
     "name": "stdout",
     "output_type": "stream",
     "text": [
      "[ 2 23  2 23  4 12  2 23]\n",
      "car1加维度后  [[ 4 12  2 23]] 2\n",
      "car2加维度后  [[ 2 23  2 23]] 2\n",
      "扩展后  [[ 4 12  2 23]\n",
      " [ 2 23  2 23]]\n"
     ]
    }
   ],
   "source": [
    "car1 = np.array([4,12,2,23])\n",
    "car2 = np.array([2,23,2,23])\n",
    "cars = np.concatenate([car2,car1])\n",
    "print(cars)\n",
    "car1 = np.expand_dims(car1, 0)\n",
    "car2 = car2[np.newaxis, :]\n",
    "print(\"car1加维度后 \", car1, car1.ndim)\n",
    "print(\"car2加维度后 \", car2, car1.ndim)\n",
    "all_cars = np.concatenate([car1, car2])\n",
    "print(\"扩展后 \", all_cars)"
   ]
  },
  {
   "attachments": {},
   "cell_type": "markdown",
   "metadata": {},
   "source": [
    "## 合并数据\n",
    "\n",
    "```python\n",
    "np.concatenate()\n",
    "np.vstack()\n",
    "np.hstack()\n",
    "```\n"
   ]
  },
  {
   "cell_type": "code",
   "execution_count": 18,
   "metadata": {},
   "outputs": [
    {
     "name": "stdout",
     "output_type": "stream",
     "text": [
      "第一维度叠加: \n",
      " [[ 4 12  2 23]\n",
      " [ 2 23  2 23]\n",
      " [ 4 12  2 23]\n",
      " [ 2 23  2 23]]\n",
      "第二维度叠加: \n",
      " [[ 4 12  2 23  4 12  2 23]\n",
      " [ 2 23  2 23  2 23  2 23]]\n"
     ]
    }
   ],
   "source": [
    "print(\"第一维度叠加: \\n\", np.concatenate([all_cars,all_cars],axis=0))\n",
    "print(\"第二维度叠加: \\n\", np.concatenate([all_cars,all_cars],axis=1))"
   ]
  },
  {
   "cell_type": "code",
   "execution_count": 19,
   "metadata": {},
   "outputs": [
    {
     "name": "stdout",
     "output_type": "stream",
     "text": [
      "竖直合并\n",
      " [[1 2]\n",
      " [3 4]\n",
      " [5 6]\n",
      " [7 8]]\n",
      "水平合并\n",
      " [[1 2 5 6]\n",
      " [3 4 7 8]]\n"
     ]
    }
   ],
   "source": [
    "a = np.array([\n",
    "    [1,2],\n",
    "    [3,4],\n",
    "])\n",
    "b = np.array([\n",
    "    [5,6],\n",
    "    [7,8],\n",
    "])\n",
    "print(\"竖直合并\\n\", np.vstack([a,b]))\n",
    "print(\"水平合并\\n\", np.hstack([a,b]))"
   ]
  },
  {
   "attachments": {},
   "cell_type": "markdown",
   "metadata": {},
   "source": [
    "## Size\n",
    "\n",
    "```python\n",
    "array.size\n",
    "array.shape\n",
    "```\n"
   ]
  },
  {
   "cell_type": "code",
   "execution_count": 20,
   "metadata": {},
   "outputs": [
    {
     "name": "stdout",
     "output_type": "stream",
     "text": [
      "总数: 32\n",
      "第一维度: 2\n",
      "所有维度: (2, 4, 4)\n"
     ]
    }
   ],
   "source": [
    "cars = np.array(\n",
    "    [\n",
    "        [\n",
    "            [5, 10, 12, 6],\n",
    "            [1.5, 10, 1.2, 6],\n",
    "            [5, 10, 12, 6],\n",
    "            [5, 10, 12, 6],\n",
    "        ],\n",
    "        [\n",
    "            [5, 10, 12, 6],\n",
    "            [1.5, 10, 1.2, 6],\n",
    "            [5, 10, 12, 6],\n",
    "            [5, 10, 12, 6],\n",
    "        ]\n",
    "    ]\n",
    ")\n",
    "print(\"总数:\",cars.size)\n",
    "print(\"第一维度:\",cars.shape[0])\n",
    "print(\"所有维度:\",cars.shape)"
   ]
  },
  {
   "attachments": {},
   "cell_type": "markdown",
   "metadata": {},
   "source": [
    "## 数据获取"
   ]
  },
  {
   "attachments": {},
   "cell_type": "markdown",
   "metadata": {},
   "source": [
    "### 单个获取\n",
    "\n",
    "```python\n",
    "array[1]\n",
    "array[1,2,3]\n",
    "array[1][1]\n",
    "```"
   ]
  },
  {
   "cell_type": "code",
   "execution_count": 21,
   "metadata": {},
   "outputs": [
    {
     "name": "stdout",
     "output_type": "stream",
     "text": [
      "a[0] 1\n",
      "a[[0,1]] [1 2]\n",
      "a[[1,1,0]] [2 2 1]\n"
     ]
    }
   ],
   "source": [
    "a = np.array([1,2,3])\n",
    "print(\"a[0]\",a[0])\n",
    "print(\"a[[0,1]]\", a[[0,1]])\n",
    "print(\"a[[1,1,0]]\", a[[1,1,0]])"
   ]
  },
  {
   "attachments": {},
   "cell_type": "markdown",
   "metadata": {},
   "source": [
    "### 切片\n",
    "\n",
    "```python\n",
    "array[:3]\n",
    "array[2:4, 1:3]\n",
    "```"
   ]
  },
  {
   "cell_type": "code",
   "execution_count": 22,
   "metadata": {},
   "outputs": [
    {
     "name": "stdout",
     "output_type": "stream",
     "text": [
      "a[0:2]: [1 2]\n",
      "a[1:]: [2 3]\n",
      "a[-2:]: [2 3]\n"
     ]
    }
   ],
   "source": [
    "print(\"a[0:2]:\", a[0:2])\n",
    "print(\"a[1:]:\", a[1:])\n",
    "print(\"a[-2:]:\", a[-2:])"
   ]
  },
  {
   "cell_type": "code",
   "execution_count": 23,
   "metadata": {},
   "outputs": [
    {
     "name": "stdout",
     "output_type": "stream",
     "text": [
      "b[:2] =  [[1 2 3 4]\n",
      " [5 6 7 8]]\n",
      "b[:2,:3] =  [[1 2 3]\n",
      " [5 6 7]]\n",
      "b[1:3,-2:] =  [[ 7  8]\n",
      " [11 12]]\n"
     ]
    }
   ],
   "source": [
    "b = np.array([\n",
    "    [1,2,3,4],\n",
    "    [5,6,7,8],\n",
    "    [9,10,11,12],\n",
    "])\n",
    "print(\"b[:2] = \",b[:2])\n",
    "print(\"b[:2,:3] = \",b[:2,:3])\n",
    "print(\"b[1:3,-2:] = \",b[1:3,-2:])"
   ]
  },
  {
   "attachments": {},
   "cell_type": "markdown",
   "metadata": {},
   "source": [
    "### 筛选\n",
    "\n",
    "```python\n",
    "array[array<0]\n",
    "np.where(array, array < 0)\n",
    "```"
   ]
  },
  {
   "cell_type": "code",
   "execution_count": 29,
   "metadata": {},
   "outputs": [
    {
     "name": "stdout",
     "output_type": "stream",
     "text": [
      "[ 8  9 10 11 12]\n",
      "[[ 1  2  3  4]\n",
      " [ 5  6  7 -1]\n",
      " [-1 -1 -1 -1]]\n",
      "[[ 2  2  2  2]\n",
      " [ 2  2  2 -1]\n",
      " [-1 -1 -1 -1]]\n",
      "[[-2 -3 -4 -5]\n",
      " [-6 -7 -8  8]\n",
      " [ 9 10 11 12]]\n"
     ]
    }
   ],
   "source": [
    "print(b[b>7])\n",
    "print(np.where(b>7, -1,b))\n",
    "print(np.where(b>7, -1,2))\n",
    "print(np.where(b>7, b, -b-1))"
   ]
  },
  {
   "attachments": {},
   "cell_type": "markdown",
   "metadata": {},
   "source": [
    "## 运算"
   ]
  },
  {
   "attachments": {},
   "cell_type": "markdown",
   "metadata": {},
   "source": [
    "### 加减乘除\n",
    "\n",
    "- +-*/\n",
    "- np.dot()"
   ]
  },
  {
   "cell_type": "code",
   "execution_count": 2,
   "metadata": {},
   "outputs": [
    {
     "data": {
      "text/plain": [
       "array([4, 5, 6, 7])"
      ]
     },
     "execution_count": 2,
     "metadata": {},
     "output_type": "execute_result"
    }
   ],
   "source": [
    "a = np.array([1,2,3,4])\n",
    "a + 3"
   ]
  },
  {
   "cell_type": "code",
   "execution_count": 3,
   "metadata": {},
   "outputs": [
    {
     "data": {
      "text/plain": [
       "array([-2, -1,  0,  1])"
      ]
     },
     "execution_count": 3,
     "metadata": {},
     "output_type": "execute_result"
    }
   ],
   "source": [
    "a - 3"
   ]
  },
  {
   "cell_type": "code",
   "execution_count": 4,
   "metadata": {},
   "outputs": [
    {
     "data": {
      "text/plain": [
       "array([2, 4, 6, 8])"
      ]
     },
     "execution_count": 4,
     "metadata": {},
     "output_type": "execute_result"
    }
   ],
   "source": [
    "a * 2"
   ]
  },
  {
   "cell_type": "code",
   "execution_count": 5,
   "metadata": {},
   "outputs": [
    {
     "data": {
      "text/plain": [
       "array([0.5, 1. , 1.5, 2. ])"
      ]
     },
     "execution_count": 5,
     "metadata": {},
     "output_type": "execute_result"
    }
   ],
   "source": [
    "a / 2"
   ]
  },
  {
   "cell_type": "code",
   "execution_count": 6,
   "metadata": {},
   "outputs": [
    {
     "name": "stdout",
     "output_type": "stream",
     "text": [
      "[[19 22]\n",
      " [43 50]]\n",
      "[[19 22]\n",
      " [43 50]]\n"
     ]
    }
   ],
   "source": [
    "a = np.array([\n",
    "[1, 2],\n",
    "[3, 4]\n",
    "])\n",
    "b = np.array([\n",
    "[5, 6],\n",
    "[7, 8]\n",
    "])\n",
    "\n",
    "print(a.dot(b))\n",
    "print(np.dot(a, b))\n"
   ]
  },
  {
   "attachments": {},
   "cell_type": "markdown",
   "metadata": {},
   "source": [
    "### 数据统计分析\n",
    "\n",
    "- np.max() 最大值 np.min() 最小值 np.sum() 累加 np.prod() 累乘 np.count() 记数 \n",
    "- np.std() 标准差 np.mean() 平均 np.median() 中位值"
   ]
  },
  {
   "attachments": {},
   "cell_type": "markdown",
   "metadata": {},
   "source": [
    "### 特殊运算符号\n",
    "\n",
    "- np.argmax() np.argmin()\n",
    "- np.ceil() np.floor() np.clip()"
   ]
  },
  {
   "attachments": {},
   "cell_type": "markdown",
   "metadata": {},
   "source": [
    "## 改变数据形态"
   ]
  },
  {
   "attachments": {},
   "cell_type": "markdown",
   "metadata": {},
   "source": [
    "### 改变形态\n",
    "\n",
    "- array[np.newaxis, :] 增加维度\n",
    "- array.reshape() \n",
    "- array.ravel(), array.flatten()\n",
    "- array.transpose() 矩阵转置"
   ]
  },
  {
   "cell_type": "code",
   "execution_count": 10,
   "metadata": {},
   "outputs": [
    {
     "name": "stdout",
     "output_type": "stream",
     "text": [
      "[[1 2 3 4 5 6]]\n",
      "(6,) (1, 6)\n",
      "[[1]\n",
      " [2]\n",
      " [3]\n",
      " [4]\n",
      " [5]\n",
      " [6]]\n",
      "[[1]\n",
      " [2]\n",
      " [3]\n",
      " [4]\n",
      " [5]\n",
      " [6]]\n",
      "(6, 1) (6, 1)\n",
      "[1 2 3 4 5 6]\n",
      "(6,)\n",
      "(6,)\n"
     ]
    }
   ],
   "source": [
    "a = np.array([1,2,3,4,5,6])\n",
    "a_2d = a[np.newaxis, :] \n",
    "print(a_2d)\n",
    "print(a.shape, a_2d.shape)\n",
    "a_none = a[:, None]\n",
    "a_expand = np.expand_dims(a, axis=1)\n",
    "print(a_none)\n",
    "print(a_expand)\n",
    "print(a_none.shape, a_expand.shape)\n",
    "a_squeeze = np.squeeze(a_expand)\n",
    "a_squeeze_axis = a_expand.squeeze(axis=1)\n",
    "print(a_squeeze)\n",
    "print(a_squeeze.shape)\n",
    "print(a_squeeze_axis.shape)"
   ]
  },
  {
   "attachments": {},
   "cell_type": "markdown",
   "metadata": {},
   "source": [
    "### 合并\n",
    "\n",
    "- np.column_stack(), np.row_stack()\n",
    "- np.vstack(), np.hstack(), np.stack()\n",
    "- np.concatenate()"
   ]
  },
  {
   "cell_type": "code",
   "execution_count": 3,
   "metadata": {},
   "outputs": [
    {
     "data": {
      "text/plain": [
       "array([[ 1, 11],\n",
       "       [ 2, 22],\n",
       "       [ 3, 33],\n",
       "       [ 4, 44],\n",
       "       [ 5, 55],\n",
       "       [ 6, 66]])"
      ]
     },
     "execution_count": 3,
     "metadata": {},
     "output_type": "execute_result"
    }
   ],
   "source": [
    "feature_a = np.array([1,2,3,4,5,6])\n",
    "feature_b = np.array([11,22,33,44,55,66])\n",
    "c_stack = np.column_stack([feature_a, feature_b])\n",
    "c_stack"
   ]
  },
  {
   "cell_type": "code",
   "execution_count": 4,
   "metadata": {},
   "outputs": [
    {
     "name": "stdout",
     "output_type": "stream",
     "text": [
      "[[0.  1.1]\n",
      " [1.  2.2]]\n"
     ]
    }
   ],
   "source": [
    "sample_a = np.array([0, 1.1])\n",
    "sample_b = np.array([1, 2.2])\n",
    "c_stack = np.row_stack([sample_a, sample_b])\n",
    "print(c_stack)"
   ]
  },
  {
   "cell_type": "code",
   "execution_count": 5,
   "metadata": {},
   "outputs": [
    {
     "name": "stdout",
     "output_type": "stream",
     "text": [
      "[[ 1 11]\n",
      " [ 2 22]\n",
      " [ 3 33]\n",
      " [ 4 44]\n",
      " [ 5 55]\n",
      " [ 6 66]]\n",
      "[[0.  1.1]\n",
      " [1.  2.2]]\n"
     ]
    }
   ],
   "source": [
    "feature_a = np.array([1,2,3,4,5,6])[:, None]\n",
    "feature_b = np.array([11,22,33,44,55,66])[:, None]\n",
    "c_stack = np.hstack([feature_a, feature_b])\n",
    "print(c_stack)\n",
    "\n",
    "sample_a = np.array([0, 1.1])[None, :]\n",
    "sample_b = np.array([1, 2.2])[None, :]\n",
    "c_stack = np.vstack([sample_a, sample_b])\n",
    "print(c_stack)\n"
   ]
  },
  {
   "cell_type": "code",
   "execution_count": 6,
   "metadata": {},
   "outputs": [
    {
     "name": "stdout",
     "output_type": "stream",
     "text": [
      "[[1 2]\n",
      " [3 4]\n",
      " [5 6]\n",
      " [7 8]]\n",
      "[[1 2 5 6]\n",
      " [3 4 7 8]]\n"
     ]
    }
   ],
   "source": [
    "a = np.array([\n",
    "[1,2],\n",
    "[3,4]\n",
    "])\n",
    "b = np.array([\n",
    "[5,6],\n",
    "[7,8]\n",
    "])\n",
    "\n",
    "print(np.concatenate([a, b], axis=0))\n",
    "print(np.concatenate([a, b], axis=1))\n"
   ]
  },
  {
   "attachments": {},
   "cell_type": "markdown",
   "metadata": {},
   "source": [
    "### 拆解\n",
    "\n",
    "np.vsplit(), np.hsplit(), np.split()"
   ]
  },
  {
   "cell_type": "code",
   "execution_count": 7,
   "metadata": {},
   "outputs": [
    {
     "name": "stdout",
     "output_type": "stream",
     "text": [
      "[array([[ 1, 11,  2, 22],\n",
      "       [ 3, 33,  4, 44]]), array([[ 5, 55,  6, 66],\n",
      "       [ 7, 77,  8, 88]])]\n",
      "[array([[ 1, 11,  2, 22],\n",
      "       [ 3, 33,  4, 44]]), array([[ 5, 55,  6, 66]]), array([[ 7, 77,  8, 88]])]\n"
     ]
    }
   ],
   "source": [
    "a = np.array(\n",
    "[[ 1, 11, 2, 22],\n",
    " [ 3, 33, 4, 44],\n",
    " [ 5, 55, 6, 66],\n",
    " [ 7, 77, 8, 88]]\n",
    ")\n",
    "print(np.vsplit(a, indices_or_sections=2))  # 分成两段\n",
    "print(np.vsplit(a, indices_or_sections=[2,3]))  # 分片成 [:2]，[2:3], [3:]\n"
   ]
  },
  {
   "cell_type": "code",
   "execution_count": 8,
   "metadata": {},
   "outputs": [
    {
     "name": "stdout",
     "output_type": "stream",
     "text": [
      "[array([[ 1, 11,  2, 22],\n",
      "       [ 3, 33,  4, 44]]), array([[ 5, 55,  6, 66],\n",
      "       [ 7, 77,  8, 88]])]\n",
      "[array([[ 1, 11],\n",
      "       [ 3, 33],\n",
      "       [ 5, 55],\n",
      "       [ 7, 77]]), array([[2],\n",
      "       [4],\n",
      "       [6],\n",
      "       [8]]), array([[22],\n",
      "       [44],\n",
      "       [66],\n",
      "       [88]])]\n"
     ]
    }
   ],
   "source": [
    "a = np.array(\n",
    "[[ 1, 11, 2, 22],\n",
    " [ 3, 33, 4, 44],\n",
    " [ 5, 55, 6, 66],\n",
    " [ 7, 77, 8, 88]]\n",
    ")\n",
    "print(np.split(a, indices_or_sections=2, axis=0))  # 分成两段\n",
    "print(np.split(a, indices_or_sections=[2,3], axis=1))  # 在第二维度，分片成 [:2]，[2:3]，[3:]\n"
   ]
  },
  {
   "attachments": {},
   "cell_type": "markdown",
   "metadata": {},
   "source": [
    "## 读取保存数据"
   ]
  },
  {
   "attachments": {},
   "cell_type": "markdown",
   "metadata": {},
   "source": [
    "### 加载常用数据格式"
   ]
  },
  {
   "attachments": {},
   "cell_type": "markdown",
   "metadata": {},
   "source": [
    "- np.loadtxt(), np.fromstring()"
   ]
  },
  {
   "attachments": {},
   "cell_type": "markdown",
   "metadata": {},
   "source": [
    "### 保存数据"
   ]
  },
  {
   "attachments": {},
   "cell_type": "markdown",
   "metadata": {},
   "source": [
    "- np.savetxt()\n",
    "- np.save(), np.savez(), np.savez_compressed()"
   ]
  },
  {
   "attachments": {},
   "cell_type": "markdown",
   "metadata": {},
   "source": [
    "## 标准数据生成"
   ]
  },
  {
   "attachments": {},
   "cell_type": "markdown",
   "metadata": {},
   "source": [
    "### 创建统一数据"
   ]
  },
  {
   "attachments": {},
   "cell_type": "markdown",
   "metadata": {},
   "source": [
    "- np.zeros(), np.ones(), np.full()\n",
    "- np.zeros_like(), np.ones_like(), np.full_like()"
   ]
  },
  {
   "attachments": {},
   "cell_type": "markdown",
   "metadata": {},
   "source": [
    "### 创建规则数据"
   ]
  },
  {
   "attachments": {},
   "cell_type": "markdown",
   "metadata": {},
   "source": [
    "- np.arange(), np.linspace()"
   ]
  },
  {
   "attachments": {},
   "cell_type": "markdown",
   "metadata": {},
   "source": [
    "### 快速创建再添加值"
   ]
  },
  {
   "attachments": {},
   "cell_type": "markdown",
   "metadata": {},
   "source": [
    "- np.empty(), np.empty_like()"
   ]
  },
  {
   "attachments": {},
   "cell_type": "markdown",
   "metadata": {},
   "source": [
    "## 随机数和随机操作"
   ]
  },
  {
   "attachments": {},
   "cell_type": "markdown",
   "metadata": {},
   "source": [
    "### 多种随机数生成"
   ]
  },
  {
   "attachments": {},
   "cell_type": "markdown",
   "metadata": {},
   "source": [
    "- np.random.rand(), np.random.random()\n",
    "- np.random.randn(), np.random.randint()"
   ]
  },
  {
   "attachments": {},
   "cell_type": "markdown",
   "metadata": {},
   "source": [
    "### 给你施加随机"
   ]
  },
  {
   "attachments": {},
   "cell_type": "markdown",
   "metadata": {},
   "source": [
    "- np.random.choice()\n",
    "- np.random.shuffle(), np.random.permutation()"
   ]
  },
  {
   "attachments": {},
   "cell_type": "markdown",
   "metadata": {},
   "source": [
    "### 随机分布"
   ]
  },
  {
   "attachments": {},
   "cell_type": "markdown",
   "metadata": {},
   "source": [
    "- np.random.normal(), np.random.uniform()"
   ]
  },
  {
   "attachments": {},
   "cell_type": "markdown",
   "metadata": {},
   "source": [
    "### 随机种子的重要性"
   ]
  },
  {
   "attachments": {},
   "cell_type": "markdown",
   "metadata": {},
   "source": [
    "- np.random.seed()"
   ]
  }
 ],
 "metadata": {
  "kernelspec": {
   "display_name": "test",
   "language": "python",
   "name": "python3"
  },
  "language_info": {
   "codemirror_mode": {
    "name": "ipython",
    "version": 3
   },
   "file_extension": ".py",
   "mimetype": "text/x-python",
   "name": "python",
   "nbconvert_exporter": "python",
   "pygments_lexer": "ipython3",
   "version": "3.10.10"
  },
  "orig_nbformat": 4
 },
 "nbformat": 4,
 "nbformat_minor": 2
}
