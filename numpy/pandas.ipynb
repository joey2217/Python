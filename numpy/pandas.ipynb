{
 "cells": [
  {
   "attachments": {},
   "cell_type": "markdown",
   "metadata": {},
   "source": [
    "# Pandas"
   ]
  },
  {
   "cell_type": "code",
   "execution_count": 2,
   "metadata": {},
   "outputs": [],
   "source": [
    "import pandas as pd"
   ]
  },
  {
   "cell_type": "code",
   "execution_count": 3,
   "metadata": {},
   "outputs": [
    {
     "name": "stdout",
     "output_type": "stream",
     "text": [
      "list: [1, 2, 3]\n",
      "dict: {'a': 1, 'b': 2, 'c': 3}\n"
     ]
    }
   ],
   "source": [
    "a_list = [1,2,3]\n",
    "a_dict = {\"a\": 1, \"b\": 2, \"c\": 3}\n",
    "print(\"list:\", a_list)\n",
    "print(\"dict:\", a_dict)\n"
   ]
  },
  {
   "attachments": {},
   "cell_type": "markdown",
   "metadata": {},
   "source": [
    "## 从文件读取数据\n",
    "\n",
    "### Excel文件\n",
    "\n",
    "pd.read_excel()\n",
    "df.to_excel()\n",
    "\n",
    "### csv或txt等纯文本文件\n",
    "\n",
    "pd.read_csv()\n",
    "df.to_csv()\n",
    "\n",
    "### 其他\n",
    "\n",
    "pd.read_clipboard()\n",
    "pd.read_html()"
   ]
  }
 ],
 "metadata": {
  "kernelspec": {
   "display_name": "np",
   "language": "python",
   "name": "python3"
  },
  "language_info": {
   "codemirror_mode": {
    "name": "ipython",
    "version": 3
   },
   "file_extension": ".py",
   "mimetype": "text/x-python",
   "name": "python",
   "nbconvert_exporter": "python",
   "pygments_lexer": "ipython3",
   "version": "3.10.10"
  },
  "orig_nbformat": 4
 },
 "nbformat": 4,
 "nbformat_minor": 2
}
